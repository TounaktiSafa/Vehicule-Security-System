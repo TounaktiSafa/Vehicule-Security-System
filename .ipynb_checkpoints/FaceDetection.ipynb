{
 "cells": [
  {
   "cell_type": "code",
   "execution_count": null,
   "id": "69948bc0-dcff-43d2-9db4-0b30572716f5",
   "metadata": {},
   "outputs": [],
   "source": [
    "!pip install cmake"
   ]
  },
  {
   "cell_type": "code",
   "execution_count": 3,
   "id": "c58d3250-3a3f-45bd-9154-73fe88965c37",
   "metadata": {},
   "outputs": [
    {
     "name": "stdout",
     "output_type": "stream",
     "text": [
      "Requirement already satisfied: dlib in e:\\anaconda\\lib\\site-packages (19.24.6)\n",
      "Requirement already satisfied: face-recognition in e:\\anaconda\\lib\\site-packages (1.3.0)\n",
      "Requirement already satisfied: face-recognition-models>=0.3.0 in e:\\anaconda\\lib\\site-packages (from face-recognition) (0.3.0)\n",
      "Requirement already satisfied: Click>=6.0 in e:\\anaconda\\lib\\site-packages (from face-recognition) (8.1.7)\n",
      "Requirement already satisfied: dlib>=19.7 in e:\\anaconda\\lib\\site-packages (from face-recognition) (19.24.6)\n",
      "Requirement already satisfied: numpy in c:\\users\\lenovo\\appdata\\roaming\\python\\python312\\site-packages (from face-recognition) (2.1.3)\n",
      "Requirement already satisfied: Pillow in c:\\users\\lenovo\\appdata\\roaming\\python\\python312\\site-packages (from face-recognition) (11.0.0)\n",
      "Requirement already satisfied: colorama in c:\\users\\lenovo\\appdata\\roaming\\python\\python312\\site-packages (from Click>=6.0->face-recognition) (0.4.6)\n"
     ]
    }
   ],
   "source": [
    "!pip install dlib\n",
    "!pip install face-recognition"
   ]
  },
  {
   "cell_type": "code",
   "execution_count": 4,
   "id": "bc5b247d-8d53-4b53-8f88-6e67b332d89e",
   "metadata": {},
   "outputs": [
    {
     "name": "stdout",
     "output_type": "stream",
     "text": [
      "Requirement already satisfied: face-recognition in e:\\anaconda\\lib\\site-packages (1.3.0)\n",
      "Requirement already satisfied: face-recognition-models>=0.3.0 in e:\\anaconda\\lib\\site-packages (from face-recognition) (0.3.0)\n",
      "Requirement already satisfied: Click>=6.0 in e:\\anaconda\\lib\\site-packages (from face-recognition) (8.1.7)\n",
      "Requirement already satisfied: dlib>=19.7 in e:\\anaconda\\lib\\site-packages (from face-recognition) (19.24.6)\n",
      "Requirement already satisfied: numpy in c:\\users\\lenovo\\appdata\\roaming\\python\\python312\\site-packages (from face-recognition) (2.1.3)\n",
      "Requirement already satisfied: Pillow in c:\\users\\lenovo\\appdata\\roaming\\python\\python312\\site-packages (from face-recognition) (11.0.0)\n",
      "Requirement already satisfied: colorama in c:\\users\\lenovo\\appdata\\roaming\\python\\python312\\site-packages (from Click>=6.0->face-recognition) (0.4.6)\n"
     ]
    }
   ],
   "source": [
    "!pip install face-recognition"
   ]
  },
  {
   "cell_type": "code",
   "execution_count": 5,
   "id": "b34c85b3-e071-4b30-a5e7-4c20b44465a5",
   "metadata": {},
   "outputs": [],
   "source": [
    "import numpy as np\n",
    "import face_recognition as fr\n",
    "import cv2"
   ]
  },
  {
   "cell_type": "code",
   "execution_count": 6,
   "id": "0dbb117f-a18e-4bf6-90cc-8eb4638adbaf",
   "metadata": {},
   "outputs": [],
   "source": [
    "video_capture = cv2.VideoCapture(0)"
   ]
  },
  {
   "cell_type": "code",
   "execution_count": 7,
   "id": "a0ed78e6-cb6a-46f7-85c6-c69ce2775b17",
   "metadata": {},
   "outputs": [],
   "source": [
    "image = fr.load_image_file('image/boy.jpg')"
   ]
  },
  {
   "cell_type": "code",
   "execution_count": 8,
   "id": "10709a23-6aa7-4662-ae5d-c43a45bfff0f",
   "metadata": {},
   "outputs": [],
   "source": [
    "image_face_encoding = fr.face_encodings(image)[0]\n"
   ]
  },
  {
   "cell_type": "code",
   "execution_count": 9,
   "id": "67d28666-81fa-4640-af22-69d4e26a21ed",
   "metadata": {},
   "outputs": [],
   "source": [
    "known_face_encodings = [image_face_encoding]"
   ]
  },
  {
   "cell_type": "code",
   "execution_count": 10,
   "id": "01706b47-1209-47f0-a8df-21f5cbeb006c",
   "metadata": {},
   "outputs": [],
   "source": [
    "known_face_names = ['user']\n"
   ]
  },
  {
   "cell_type": "code",
   "execution_count": 11,
   "id": "e84106c3-4cab-4e7c-bc8b-a76a3225eaf8",
   "metadata": {},
   "outputs": [
    {
     "name": "stdout",
     "output_type": "stream",
     "text": [
      "Requirement already satisfied: face_recognition in e:\\anaconda\\lib\\site-packages (1.3.0)Note: you may need to restart the kernel to use updated packages.\n",
      "\n",
      "Requirement already satisfied: dlib in e:\\anaconda\\lib\\site-packages (19.24.6)\n",
      "Requirement already satisfied: face-recognition-models>=0.3.0 in e:\\anaconda\\lib\\site-packages (from face_recognition) (0.3.0)\n",
      "Requirement already satisfied: Click>=6.0 in e:\\anaconda\\lib\\site-packages (from face_recognition) (8.1.7)\n",
      "Requirement already satisfied: numpy in c:\\users\\lenovo\\appdata\\roaming\\python\\python312\\site-packages (from face_recognition) (2.1.3)\n",
      "Requirement already satisfied: Pillow in c:\\users\\lenovo\\appdata\\roaming\\python\\python312\\site-packages (from face_recognition) (11.0.0)\n",
      "Requirement already satisfied: colorama in c:\\users\\lenovo\\appdata\\roaming\\python\\python312\\site-packages (from Click>=6.0->face_recognition) (0.4.6)\n"
     ]
    }
   ],
   "source": [
    "pip install --upgrade face_recognition dlib\n"
   ]
  },
  {
   "cell_type": "code",
   "execution_count": null,
   "id": "078ff47f-a8cb-4635-8321-dd785b72c1b8",
   "metadata": {},
   "outputs": [],
   "source": [
    "import face_recognition as fr\n",
    "import cv2\n",
    "import numpy as np\n",
    "\n",
    "# Initialize video capture\n",
    "video_capture = cv2.VideoCapture(0)\n",
    "\n",
    "# Load a sample picture and learn how to recognize it\n",
    "known_image = fr.load_image_file(\"image/boy.jpg\")\n",
    "known_face_encodings = [fr.face_encodings(known_image)[0]]\n",
    "known_face_names = [\"Known Person\"]\n",
    "\n",
    "while True:\n",
    "    # Capture frame-by-frame\n",
    "    ret, frame = video_capture.read()\n",
    "\n",
    "    if not ret:\n",
    "        print(\"Failed to capture image\")\n",
    "        break\n",
    "\n",
    "    # Convert the image from BGR color (OpenCV) to RGB color (face_recognition)\n",
    "    rgb_frame = cv2.cvtColor(frame, cv2.COLOR_BGR2RGB)\n",
    "\n",
    "    # Find all the face locations in the current frame of video\n",
    "    face_locations = fr.face_locations(rgb_frame, model=\"hog\")\n",
    "\n",
    "    if face_locations:\n",
    "        try:\n",
    "            # Pass the list of face locations directly to `face_recognition`\n",
    "            face_encodings = fr.face_encodings(rgb_frame, face_locations)\n",
    "        except Exception as e:\n",
    "            print(\"Error in face_encodings:\", e)\n",
    "            face_encodings = []\n",
    "\n",
    "        # Process each face found in the frame\n",
    "        for (top, right, bottom, left), face_encoding in zip(face_locations, face_encodings):\n",
    "            matches = fr.compare_faces(known_face_encodings, face_encoding)\n",
    "            name = \"Unknown\"\n",
    "\n",
    "            if True in matches:\n",
    "                face_distances = fr.face_distance(known_face_encodings, face_encoding)\n",
    "                best_match_index = np.argmin(face_distances)\n",
    "                if matches[best_match_index]:\n",
    "                    name = known_face_names[best_match_index]\n",
    "\n",
    "            # Draw a box around the face\n",
    "            cv2.rectangle(frame, (left, top), (right, bottom), (0, 0, 255), 2)\n",
    "\n",
    "            # Draw a label with a name below the face\n",
    "            cv2.rectangle(frame, (left, bottom - 35), (right, bottom), (0, 0, 255), cv2.FILLED)\n",
    "            font = cv2.FONT_HERSHEY_SIMPLEX\n",
    "            cv2.putText(frame, name, (left + 6, bottom - 6), font, 1.0, (255, 255, 255), 1)\n",
    "\n",
    "    # Display the resulting image\n",
    "    cv2.imshow('Face Detection System', frame)\n",
    "\n",
    "    # Hit 'q' on the keyboard to quit!\n",
    "    if cv2.waitKey(1) & 0xFF == ord('q'):\n",
    "        break\n",
    "\n",
    "# Release handle to the webcam\n",
    "video_capture.release()\n",
    "cv2.destroyAllWindows()"
   ]
  },
  {
   "cell_type": "code",
   "execution_count": null,
   "id": "53dcac67-19e6-49dd-81b3-3c9c862de283",
   "metadata": {},
   "outputs": [],
   "source": []
  }
 ],
 "metadata": {
  "kernelspec": {
   "display_name": "Python 3 (ipykernel)",
   "language": "python",
   "name": "python3"
  },
  "language_info": {
   "codemirror_mode": {
    "name": "ipython",
    "version": 3
   },
   "file_extension": ".py",
   "mimetype": "text/x-python",
   "name": "python",
   "nbconvert_exporter": "python",
   "pygments_lexer": "ipython3",
   "version": "3.12.7"
  }
 },
 "nbformat": 4,
 "nbformat_minor": 5
}
